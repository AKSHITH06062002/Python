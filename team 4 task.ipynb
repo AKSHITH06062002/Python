{
 "cells": [
  {
   "cell_type": "markdown",
   "id": "88834c58",
   "metadata": {},
   "source": [
    "1)Create a function that sorts a list and removes all duplicate items from it.\n"
   ]
  },
  {
   "cell_type": "code",
   "execution_count": 3,
   "id": "81d07461",
   "metadata": {},
   "outputs": [
    {
     "name": "stdout",
     "output_type": "stream",
     "text": [
      "[2, 4, 5, 6, 8, 9]\n"
     ]
    }
   ],
   "source": [
    "numbers = [2,5,6,4,2,4,6,8,9,5,8]\n",
    "numbers.sort()\n",
    "i = 0\n",
    "while i < len(numbers) - 1:\n",
    "    if numbers[i] == numbers[i + 1]:\n",
    "        del numbers[i]\n",
    "    else:\n",
    "        i += 1\n",
    "print(numbers)"
   ]
  },
  {
   "cell_type": "code",
   "execution_count": 4,
   "id": "16f3c44f",
   "metadata": {},
   "outputs": [
    {
     "name": "stdout",
     "output_type": "stream",
     "text": [
      "[2, 4, 5, 6, 8, 9]\n"
     ]
    }
   ],
   "source": [
    "numbers = [2,5,6,4,2,4,6,8,9,5,8]\n",
    "for i in range(len(numbers)):\n",
    "    for j in range(0, len(numbers)-i-1):\n",
    "        if numbers[j] > numbers[j+1]:\n",
    "            numbers[j], numbers[j+1] = numbers[j+1], numbers[j]\n",
    "unique_list = []\n",
    "for num in numbers:\n",
    "    if num not in unique_list:\n",
    "        unique_list.append(num)\n",
    "print(unique_list)\n"
   ]
  },
  {
   "cell_type": "markdown",
   "id": "c559f76f",
   "metadata": {},
   "source": [
    "2). Create a function that takes a dictionary of student names and returns a list of student names in alphabetical order.\n"
   ]
  },
  {
   "cell_type": "code",
   "execution_count": 5,
   "id": "f121fc82",
   "metadata": {},
   "outputs": [
    {
     "name": "stdout",
     "output_type": "stream",
     "text": [
      "['akshith', 'sharath', 'sriram']\n"
     ]
    }
   ],
   "source": [
    "students = {\n",
    "    3: 'akshith',\n",
    "    1: 'sharath',\n",
    "    2: 'sriram',\n",
    "}\n",
    "names = []\n",
    "while students:\n",
    "    min_key = min(students.keys())\n",
    "    names.append(students.pop(min_key))\n",
    "    names.sort()\n",
    "print(names)\n"
   ]
  },
  {
   "cell_type": "code",
   "execution_count": 6,
   "id": "5257f0ac",
   "metadata": {},
   "outputs": [
    {
     "name": "stdout",
     "output_type": "stream",
     "text": [
      "['Akshith', 'Sharath', 'ayesha']\n"
     ]
    }
   ],
   "source": [
    "students = {\n",
    "     'Akshith' : 3,\n",
    "     'Sharath': 1,\n",
    "     'ayesha': 2,\n",
    "}\n",
    "names = list(students.keys())\n",
    "for i in range(len(names)):\n",
    "    for j in range(i + 1, len(names)):\n",
    "        if names[i] > names[j]:\n",
    "            names[i], names[j] = names[j], names[i]\n",
    "print(names)\n"
   ]
  },
  {
   "cell_type": "markdown",
   "id": "16769725",
   "metadata": {},
   "source": [
    "3).Take a list of names.\n",
    "Add \"Hello\" to every name.\n",
    "Make one big string with all greetings.\n",
    "The solution should be one string with a comma in between every \"Hello (Name)\".\n"
   ]
  },
  {
   "cell_type": "code",
   "execution_count": 7,
   "id": "cf3acd54",
   "metadata": {},
   "outputs": [
    {
     "name": "stdout",
     "output_type": "stream",
     "text": [
      "emra Akshith, emra sharath, emra ayesha\n"
     ]
    }
   ],
   "source": [
    "names = ['Akshith', 'sharath', 'ayesha']\n",
    "greetings = \"\"\n",
    "x = 0\n",
    "while x < len(names):\n",
    "    greetings += \"emra \" + names[x]\n",
    "    if x < len(names) - 1:\n",
    "        greetings += \", \"\n",
    "    x += 1\n",
    "print(greetings)\n"
   ]
  },
  {
   "cell_type": "code",
   "execution_count": 8,
   "id": "a47a6b18",
   "metadata": {},
   "outputs": [
    {
     "name": "stdout",
     "output_type": "stream",
     "text": [
      "emra Akshith, emra sharath, emra ayesha\n"
     ]
    }
   ],
   "source": [
    "names = ['Akshith', 'sharath', 'ayesha']\n",
    "greetings = \"\"\n",
    "for name in names:\n",
    "    greetings += f\"emra {name}, \"\n",
    "greetings = greetings[:-2]\n",
    "print(greetings)\n"
   ]
  },
  {
   "cell_type": "markdown",
   "id": "7b2bbe71",
   "metadata": {},
   "source": [
    "4)Create a function that returns the mean of all digits"
   ]
  },
  {
   "cell_type": "code",
   "execution_count": 9,
   "id": "264b6dce",
   "metadata": {},
   "outputs": [
    {
     "name": "stdout",
     "output_type": "stream",
     "text": [
      "Mean of the digits: 6.5\n"
     ]
    }
   ],
   "source": [
    "number = 458976\n",
    "total = 0\n",
    "count = 0\n",
    "while number > 0:\n",
    "    digit = number % 10\n",
    "    total += digit\n",
    "    count += 1\n",
    "    number = number // 10\n",
    "mean = total / count\n",
    "print(\"Mean of the digits:\", mean)\n"
   ]
  },
  {
   "cell_type": "code",
   "execution_count": 10,
   "id": "870ccf19",
   "metadata": {},
   "outputs": [
    {
     "name": "stdout",
     "output_type": "stream",
     "text": [
      "Mean: 6.5\n"
     ]
    }
   ],
   "source": [
    "numbers = [4,5,8,9,7,6]\n",
    "total = 0\n",
    "count = 0\n",
    "for number in numbers:\n",
    "    total += number\n",
    "    count += 1\n",
    "mean = total / count\n",
    "print(\"Mean:\", mean)\n"
   ]
  },
  {
   "cell_type": "markdown",
   "id": "aefa0f86",
   "metadata": {},
   "source": [
    "5)Create a function which returns a list of booleans, from a given number. Iterating through the number one digit at a time, append True if the digit is 1 and False if it is 0"
   ]
  },
  {
   "cell_type": "code",
   "execution_count": 11,
   "id": "c4c85161",
   "metadata": {},
   "outputs": [
    {
     "name": "stdout",
     "output_type": "stream",
     "text": [
      "[True, True, True, False, False, False, False, True, True, True, False, True, False, True, False, False, False, False, True]\n"
     ]
    }
   ],
   "source": [
    "number = 1110000111010100001\n",
    "bool_list = []\n",
    "while number > 0:\n",
    "    digit = number % 10\n",
    "    if digit == 1:\n",
    "        bool_list.append(True)\n",
    "    else:\n",
    "        bool_list.append(False)\n",
    "    number //= 10\n",
    "bool_list.reverse()\n",
    "print(bool_list)\n"
   ]
  },
  {
   "cell_type": "code",
   "execution_count": 12,
   "id": "74f60950",
   "metadata": {},
   "outputs": [
    {
     "name": "stdout",
     "output_type": "stream",
     "text": [
      "[True]\n",
      "[True]\n",
      "[True]\n",
      "[False]\n",
      "[False]\n",
      "[False]\n",
      "[True]\n",
      "[True]\n",
      "[True]\n",
      "[False]\n"
     ]
    }
   ],
   "source": [
    "number = 1110001110\n",
    "for digit in str(number):\n",
    "    result = [digit == '1']\n",
    "    print(result)\n"
   ]
  },
  {
   "cell_type": "markdown",
   "id": "1b75f526",
   "metadata": {},
   "source": [
    "6)Create a function which concatenates the number 7 to the end of every chord in a list. Ignore all chords which already end with 7.\n"
   ]
  },
  {
   "cell_type": "code",
   "execution_count": 13,
   "id": "7d2440f8",
   "metadata": {},
   "outputs": [
    {
     "name": "stdout",
     "output_type": "stream",
     "text": [
      "['S7', 'H7', 'I#7', 'V#A7']\n"
     ]
    }
   ],
   "source": [
    "chords = ['S', 'H7', 'I#', 'V#A7']\n",
    "x = 0\n",
    "while x < len(chords):\n",
    "    if not chords[x].endswith('7'):\n",
    "        chords[x] = chords[x] + '7'\n",
    "    x = x + 1\n",
    "print(chords)\n"
   ]
  },
  {
   "cell_type": "code",
   "execution_count": 14,
   "id": "92020627",
   "metadata": {},
   "outputs": [
    {
     "name": "stdout",
     "output_type": "stream",
     "text": [
      "['S7', 'H7', 'I#7', 'V#A7']\n"
     ]
    }
   ],
   "source": [
    "chords = ['S', 'H7', 'I#', 'V#A7']\n",
    "for i in range(len(chords)):\n",
    "    if not chords[i].endswith(\"7\"):\n",
    "        chords[i] = chords[i] + '7'\n",
    "print(chords)\n"
   ]
  },
  {
   "cell_type": "markdown",
   "id": "cb63cfb9",
   "metadata": {},
   "source": [
    "7)Create a function that takes two strings as arguments and returns the number of times the first string (the single character) is found in the second string.\n"
   ]
  },
  {
   "cell_type": "code",
   "execution_count": 15,
   "id": "50db3e9f",
   "metadata": {},
   "outputs": [
    {
     "name": "stdout",
     "output_type": "stream",
     "text": [
      "Enter a single character: 1\n",
      "Enter a string: 5\n",
      "1 found 0 times in 5.\n"
     ]
    }
   ],
   "source": [
    "character = input(\"Enter a single character: \")\n",
    "string = input(\"Enter a string: \")\n",
    "count = 0\n",
    "x = 0\n",
    "while x < len(string):\n",
    "    if string[x] == character:\n",
    "        count = count + 1\n",
    "    x = x + 1\n",
    "print(f\"{character} found {count} times in {string}.\")\n"
   ]
  },
  {
   "cell_type": "code",
   "execution_count": 17,
   "id": "62857c13",
   "metadata": {},
   "outputs": [
    {
     "name": "stdout",
     "output_type": "stream",
     "text": [
      "t found 1 times in akshith.\n"
     ]
    }
   ],
   "source": [
    "first_string = \"t\"\n",
    "second_string = \"akshith\"\n",
    "count = 0\n",
    "for character in second_string:\n",
    "    if character == first_string:\n",
    "        count = count + 1\n",
    "print(f\"{first_string} found {count} times in {second_string}.\")\n"
   ]
  },
  {
   "cell_type": "markdown",
   "id": "d23cd8bf",
   "metadata": {},
   "source": [
    "8).Create a function that takes an array of non-negative integers and strings and return a new array without the strings.\n"
   ]
  },
  {
   "cell_type": "code",
   "execution_count": 24,
   "id": "02643e20",
   "metadata": {},
   "outputs": [
    {
     "name": "stdout",
     "output_type": "stream",
     "text": [
      "[1, 2]\n"
     ]
    }
   ],
   "source": [
    "array = [1, 2, \"akshith\", \"goud\"]\n",
    "new_array = []\n",
    "i = 0\n",
    "while i < len(array):\n",
    "    if isinstance(array[i], int):\n",
    "        new_array.append(array[i])\n",
    "    i += 1\n",
    "print(new_array)\n"
   ]
  },
  {
   "cell_type": "code",
   "execution_count": 25,
   "id": "cee21a03",
   "metadata": {},
   "outputs": [
    {
     "name": "stdout",
     "output_type": "stream",
     "text": [
      "[1, 2]\n"
     ]
    }
   ],
   "source": [
    "array = [1, 2, \"akshith\", \"goud\"]\n",
    "new_array = []\n",
    "for x in array:\n",
    "    if isinstance(x, int):\n",
    "        new_array.append(x)\n",
    "print(new_array)\n"
   ]
  },
  {
   "cell_type": "markdown",
   "id": "ebc824d3",
   "metadata": {},
   "source": [
    "9)Create a function that takes a string and returns the number (count) of vowels contained within it.\n"
   ]
  },
  {
   "cell_type": "code",
   "execution_count": 23,
   "id": "607fd71f",
   "metadata": {},
   "outputs": [
    {
     "name": "stdout",
     "output_type": "stream",
     "text": [
      "The number of vowels in the string is 2\n"
     ]
    }
   ],
   "source": [
    "string = \"akshith\"\n",
    "vowel_count = 0\n",
    "x = 0\n",
    "vowels = \"aeiouAEIOU\"\n",
    "while x < len(string):\n",
    "    if string[x] in vowels:\n",
    "        vowel_count = vowel_count + 1\n",
    "    x = x + 1\n",
    "print(\"The number of vowels in the string is\", vowel_count)\n"
   ]
  },
  {
   "cell_type": "code",
   "execution_count": 22,
   "id": "3bdb586d",
   "metadata": {},
   "outputs": [
    {
     "name": "stdout",
     "output_type": "stream",
     "text": [
      "The number of vowels in the string is 2\n"
     ]
    }
   ],
   "source": [
    "string = \"akshith\"\n",
    "vowel_count = 0\n",
    "vowels = \"aeiouAEIOU\"\n",
    "for charachter in string:\n",
    "    if charachter in vowels:\n",
    "        vowel_count = vowel_count + 1\n",
    "print(\"The number of vowels in the string is\", vowel_count)\n"
   ]
  },
  {
   "cell_type": "markdown",
   "id": "b9c446e7",
   "metadata": {},
   "source": [
    "10)Create a function that takes a list and finds the integer which appears an odd number of times.\n"
   ]
  },
  {
   "cell_type": "code",
   "execution_count": 26,
   "id": "6f7be1ce",
   "metadata": {},
   "outputs": [
    {
     "name": "stdout",
     "output_type": "stream",
     "text": [
      "The integer that appears an odd number of times is: 3\n"
     ]
    }
   ],
   "source": [
    "my_list = [4, 3, 2, 3, 1, 4, 2, 4, 1]\n",
    "while len(my_list) > 0:\n",
    "    element = my_list[0]\n",
    "    count = my_list.count(element)\n",
    "    print(f\"The integer that appears an odd number of times is: {count}\")\n",
    "    break\n"
   ]
  },
  {
   "cell_type": "code",
   "execution_count": 27,
   "id": "a3b6ea3d",
   "metadata": {},
   "outputs": [
    {
     "name": "stdout",
     "output_type": "stream",
     "text": [
      "The integer that appears an odd number of times is: 4\n"
     ]
    }
   ],
   "source": [
    "my_list = [4, 3, 2, 3, 1, 4, 2, 4, 1]\n",
    "count = {}\n",
    "for x in my_list:\n",
    "    if x in count:\n",
    "        count[x] = count[x] + 1\n",
    "    else:\n",
    "        count[x] = 1\n",
    "result = None\n",
    "for s, g in count.items():\n",
    "    if g % 2 != 0:\n",
    "        result = s\n",
    "        break\n",
    "print(f\"The integer that appears an odd number of times is: {result}\")\n"
   ]
  },
  {
   "cell_type": "markdown",
   "id": "6772647a",
   "metadata": {},
   "source": [
    "   ### Circle or Square"
   ]
  },
  {
   "cell_type": "markdown",
   "id": "76af6b19",
   "metadata": {},
   "source": [
    "Given the radius of a circle and the area of a square, return True if the circumference of the circle is greater than the square's perimeter and False if the square's perimeter is greater than the circumference of the circle"
   ]
  },
  {
   "cell_type": "code",
   "execution_count": 28,
   "id": "a0d9e97e",
   "metadata": {},
   "outputs": [
    {
     "name": "stdout",
     "output_type": "stream",
     "text": [
      "Enter the radius of the circle: 5\n",
      "Enter the area of the square: 7\n",
      "True\n"
     ]
    }
   ],
   "source": [
    "while True:\n",
    "    try:\n",
    "        \n",
    "        radius = float(input(\"Enter the radius of the circle: \"))\n",
    "        square_area = float(input(\"Enter the area of the square: \"))\n",
    "    \n",
    "        circumference = 2 * 3.14159 * radius\n",
    "    \n",
    "        side_length_square = (square_area)**0.5\n",
    "        \n",
    "        perimeter_square = 4 * side_length_square\n",
    "\n",
    "        if circumference > perimeter_square:\n",
    "            print(\"True\")\n",
    "        else:\n",
    "            print(\"False\")\n",
    "\n",
    "        break\n",
    "        \n",
    "    except ValueError:\n",
    "        print(\"Invalid input. Please enter valid numerical values for radius and area.\")\n"
   ]
  },
  {
   "cell_type": "code",
   "execution_count": 29,
   "id": "7f77d1ea",
   "metadata": {},
   "outputs": [
    {
     "name": "stdout",
     "output_type": "stream",
     "text": [
      "Enter the radius of the circle: 8\n",
      "Enter the area of the square: 10\n",
      "True\n"
     ]
    }
   ],
   "source": [
    "\n",
    "max_attempts = 3\n",
    "\n",
    "for attempt in range(1, max_attempts + 1):\n",
    "    try:\n",
    "        radius = float(input(\"Enter the radius of the circle: \"))\n",
    "        \n",
    "        \n",
    "        square_area = float(input(\"Enter the area of the square: \"))\n",
    "        \n",
    "        \n",
    "        circumference = 2 * 3.14159 * radius\n",
    "        \n",
    "    \n",
    "        side_length_square = (square_area)**0.5\n",
    "        \n",
    "        \n",
    "        perimeter_square = 4 * side_length_square\n",
    "    \n",
    "        if circumference > perimeter_square:\n",
    "            print(\"True\")\n",
    "        else:\n",
    "            print(\"False\")\n",
    "        \n",
    "        break\n",
    "        \n",
    "    except ValueError:\n",
    "        print(\"Invalid input. Please enter valid numerical values for radius and area.\")\n",
    "        \n",
    "    if attempt < max_attempts:\n",
    "        print(f\"You have {max_attempts - attempt} {'attempts' if max_attempts - attempt > 1 else 'attempt'} remaining.\")\n",
    "    else:\n",
    "        print(\"Maximum attempts reached. Exiting program.\")\n"
   ]
  },
  {
   "cell_type": "markdown",
   "id": "9d7bae41",
   "metadata": {},
   "source": [
    "  ### Basic Calculator"
   ]
  },
  {
   "cell_type": "markdown",
   "id": "2af82876",
   "metadata": {},
   "source": [
    "Create a function that takes two numbers and a mathematical operator + - / * and will perform a calculation with the given numbers.\n",
    "\n"
   ]
  },
  {
   "cell_type": "code",
   "execution_count": 30,
   "id": "704672c9",
   "metadata": {},
   "outputs": [
    {
     "name": "stdout",
     "output_type": "stream",
     "text": [
      "Enter the first number: 10\n",
      "Enter a mathematical operator (+, -, *, /): +\n",
      "Enter the second number: 6\n",
      "Result: 16.0\n"
     ]
    }
   ],
   "source": [
    "while True:\n",
    "    try:\n",
    "        \n",
    "        num1 = float(input(\"Enter the first number: \"))\n",
    "    \n",
    "        operator = input(\"Enter a mathematical operator (+, -, *, /): \")\n",
    "        \n",
    "        \n",
    "        num2 = float(input(\"Enter the second number: \"))\n",
    "        \n",
    "    \n",
    "        result = 0\n",
    "        if operator == '+':\n",
    "            result = num1 + num2\n",
    "        elif operator == '-':\n",
    "            result = num1 - num2\n",
    "        elif operator == '*':\n",
    "            result = num1 * num2\n",
    "        elif operator == '/':\n",
    "            # Check for division by zero\n",
    "            if num2 == 0:\n",
    "                print(\"Error: Division by zero.\")\n",
    "                continue\n",
    "            else:\n",
    "                result = num1 / num2\n",
    "        else:\n",
    "            print(\"Invalid operator. Please enter +, -, *, or /.\")\n",
    "            continue\n",
    "        \n",
    "        print(f\"Result: {result}\")\n",
    "    \n",
    "        break\n",
    "        \n",
    "    except ValueError:\n",
    "        print(\"Invalid input. Please enter valid numerical values for the numbers.\")\n"
   ]
  },
  {
   "cell_type": "code",
   "execution_count": 31,
   "id": "9c3a54ab",
   "metadata": {},
   "outputs": [
    {
     "name": "stdout",
     "output_type": "stream",
     "text": [
      "Enter the first number: 123\n",
      "Enter a mathematical operator (+, -, *, /): *\n",
      "Enter the second number: 8\n",
      "Result: 984.0\n"
     ]
    }
   ],
   "source": [
    "\n",
    "num_iterations = 1\n",
    "\n",
    "for _ in range(num_iterations):\n",
    "    try:\n",
    "        \n",
    "        num1 = float(input(\"Enter the first number: \"))\n",
    "        \n",
    "        operator = input(\"Enter a mathematical operator (+, -, *, /): \")\n",
    "        \n",
    "        num2 = float(input(\"Enter the second number: \"))\n",
    "    \n",
    "        result = 0\n",
    "        if operator == '+':\n",
    "            result = num1 + num2\n",
    "        elif operator == '-':\n",
    "            result = num1 - num2\n",
    "        elif operator == '*':\n",
    "            result = num1 * num2\n",
    "        elif operator == '/':\n",
    "\n",
    "            if num2 == 0:\n",
    "                print(\"Error: Division by zero.\")\n",
    "                continue\n",
    "            else:\n",
    "                result = num1 / num2\n",
    "        else:\n",
    "            print(\"Invalid operator. Please enter +, -, *, or /.\")\n",
    "            continue\n",
    "        \n",
    "\n",
    "        print(f\"Result: {result}\")\n",
    "    \n",
    "        break\n",
    "        \n",
    "    except ValueError:\n",
    "        print(\"Invalid input. Please enter valid numerical values for the numbers.\")\n"
   ]
  },
  {
   "cell_type": "markdown",
   "id": "1acaf787",
   "metadata": {},
   "source": [
    "  ### Return the Factorial"
   ]
  },
  {
   "cell_type": "markdown",
   "id": "aa07c27c",
   "metadata": {},
   "source": [
    "Create a function that takes an integer and returns the factorial of that integer. That is, the integer multiplied by all positive lower integers.\n",
    "\n"
   ]
  },
  {
   "cell_type": "code",
   "execution_count": 33,
   "id": "d6916309",
   "metadata": {},
   "outputs": [
    {
     "name": "stdout",
     "output_type": "stream",
     "text": [
      "120\n"
     ]
    }
   ],
   "source": [
    "factorial = (lambda x: x * factorial(x - 1) if x > 1 else 1)\n",
    "\n",
    "\n",
    "result = factorial(5)\n",
    "print(result)\n"
   ]
  },
  {
   "cell_type": "markdown",
   "id": "15bf6bf5",
   "metadata": {},
   "source": [
    "  ### How Many Vowels?"
   ]
  },
  {
   "cell_type": "markdown",
   "id": "b40e5bb5",
   "metadata": {},
   "source": [
    "Create a function that takes a string and returns the number (count) of vowels contained within it."
   ]
  },
  {
   "cell_type": "code",
   "execution_count": 36,
   "id": "e1d2fb0d",
   "metadata": {},
   "outputs": [
    {
     "name": "stdout",
     "output_type": "stream",
     "text": [
      "Enter a string: 5\n",
      "The number of vowels in the given string is: 0\n"
     ]
    }
   ],
   "source": [
    "\n",
    "input_string = input(\"Enter a string: \")\n",
    "\n",
    "\n",
    "vowel_count = 0\n",
    "\n",
    "\n",
    "vowels = \"aeiouAEIOU\"\n",
    "\n",
    "\n",
    "i = 0\n",
    "\n",
    "\n",
    "while i < len(input_string):\n",
    "    \n",
    "    if input_string[i] in vowels:\n",
    "        vowel_count += 1\n",
    "\n",
    "    \n",
    "    i += 1\n",
    "\n",
    "\n",
    "print(f\"The number of vowels in the given string is: {vowel_count}\")\n"
   ]
  },
  {
   "cell_type": "code",
   "execution_count": 37,
   "id": "c85e5c1e",
   "metadata": {},
   "outputs": [
    {
     "name": "stdout",
     "output_type": "stream",
     "text": [
      "Enter a string: akshith\n",
      "The number of vowels in the given string is: 0\n"
     ]
    }
   ],
   "source": [
    "\n",
    "input_string = input(\"Enter a string: \")\n",
    "\n",
    "\n",
    "vowel_count = 0\n",
    "\n",
    "vowels = \"aeiouAEIOU\"\n",
    "\n",
    "\n",
    "for char in input_string:\n",
    "    \n",
    "    if char in vowels:\n",
    "        vowel_count +1\n",
    "print(f\"The number of vowels in the given string is: {vowel_count}\")\n"
   ]
  },
  {
   "cell_type": "markdown",
   "id": "c58f03df",
   "metadata": {},
   "source": [
    " ###  Repeating Letters"
   ]
  },
  {
   "cell_type": "markdown",
   "id": "67cb2e23",
   "metadata": {},
   "source": [
    "Create a function that takes a string and returns a string in which each character is repeated once.\n",
    "\n"
   ]
  },
  {
   "cell_type": "code",
   "execution_count": 2,
   "id": "b74b244d",
   "metadata": {},
   "outputs": [
    {
     "name": "stdout",
     "output_type": "stream",
     "text": [
      "Enter a string: 5\n",
      "The string with each character repeated once is: 55\n"
     ]
    }
   ],
   "source": [
    "\n",
    "original_string = input(\"Enter a string: \")\n",
    "\n",
    "duplicated_string = \"\"\n",
    "\n",
    "\n",
    "i = 0\n",
    "\n",
    "\n",
    "while i < len(original_string)\n",
    "    duplicated_string += original_string[i] * 2\n",
    "\n",
    "    \n",
    "    i += 1\n",
    "\n",
    "\n",
    "print(f\"The string with each character repeated once is: {duplicated_string}\")\n"
   ]
  },
  {
   "cell_type": "code",
   "execution_count": 1,
   "id": "86bb54de",
   "metadata": {},
   "outputs": [
    {
     "name": "stdout",
     "output_type": "stream",
     "text": [
      "HHeelllloo,,  WWoorrlldd!!\n"
     ]
    }
   ],
   "source": [
    "\n",
    "input_string = \"Hello, World!\"\n",
    "\n",
    "\n",
    "result_string = \"\"\n",
    "\n",
    "\n",
    "for char in input_string:\n",
    "    \n",
    "    result_string += char * 2\n",
    "\n",
    "\n",
    "print(result_string)\n"
   ]
  }
 ],
 "metadata": {
  "kernelspec": {
   "display_name": "Python 3 (ipykernel)",
   "language": "python",
   "name": "python3"
  },
  "language_info": {
   "codemirror_mode": {
    "name": "ipython",
    "version": 3
   },
   "file_extension": ".py",
   "mimetype": "text/x-python",
   "name": "python",
   "nbconvert_exporter": "python",
   "pygments_lexer": "ipython3",
   "version": "3.11.5"
  }
 },
 "nbformat": 4,
 "nbformat_minor": 5
}
