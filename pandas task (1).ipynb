{
 "cells": [
  {
   "cell_type": "code",
   "execution_count": 1,
   "id": "3f80f808",
   "metadata": {},
   "outputs": [],
   "source": [
    "import pandas as pd"
   ]
  },
  {
   "cell_type": "code",
   "execution_count": 4,
   "id": "773ee4a8",
   "metadata": {},
   "outputs": [
    {
     "name": "stdout",
     "output_type": "stream",
     "text": [
      "    productA  productB\n",
      "0         25        40\n",
      "1         30        35\n",
      "2         28        38\n",
      "3         32        41\n",
      "4         26        37\n",
      "5         29        36\n",
      "6         27        39\n",
      "7         33        42\n",
      "8         31        38\n",
      "9         28        37\n",
      "10        30        40\n",
      "11        29        36\n"
     ]
    }
   ],
   "source": [
    "Data ={'productA':[25,30,28,32,26,29,27,33,31,28,30,29],'productB':[40,35,38,41,37,36,39,42,38,37,40,36]}\n",
    "\n",
    "df = pd.DataFrame(Data)\n",
    "print(df)"
   ]
  },
  {
   "cell_type": "code",
   "execution_count": 8,
   "id": "84328365",
   "metadata": {},
   "outputs": [
    {
     "data": {
      "text/plain": [
       "productA    29.00\n",
       "productB    38.25\n",
       "dtype: float64"
      ]
     },
     "execution_count": 8,
     "metadata": {},
     "output_type": "execute_result"
    }
   ],
   "source": [
    "df.mean()"
   ]
  },
  {
   "cell_type": "markdown",
   "id": "d4723b9a",
   "metadata": {},
   "source": [
    "### productB has a higher average monthly sales"
   ]
  },
  {
   "cell_type": "code",
   "execution_count": 9,
   "id": "bc82b670",
   "metadata": {},
   "outputs": [
    {
     "data": {
      "text/plain": [
       "productA    29.0\n",
       "productB    38.0\n",
       "dtype: float64"
      ]
     },
     "execution_count": 9,
     "metadata": {},
     "output_type": "execute_result"
    }
   ],
   "source": [
    "df.median()"
   ]
  },
  {
   "cell_type": "markdown",
   "id": "24211632",
   "metadata": {},
   "source": [
    "### productB has a higher median,indicating that the sales distribution tends to be higher on average"
   ]
  },
  {
   "cell_type": "code",
   "execution_count": 10,
   "id": "d9631c06",
   "metadata": {},
   "outputs": [
    {
     "data": {
      "text/html": [
       "<div>\n",
       "<style scoped>\n",
       "    .dataframe tbody tr th:only-of-type {\n",
       "        vertical-align: middle;\n",
       "    }\n",
       "\n",
       "    .dataframe tbody tr th {\n",
       "        vertical-align: top;\n",
       "    }\n",
       "\n",
       "    .dataframe thead th {\n",
       "        text-align: right;\n",
       "    }\n",
       "</style>\n",
       "<table border=\"1\" class=\"dataframe\">\n",
       "  <thead>\n",
       "    <tr style=\"text-align: right;\">\n",
       "      <th></th>\n",
       "      <th>productA</th>\n",
       "      <th>productB</th>\n",
       "    </tr>\n",
       "  </thead>\n",
       "  <tbody>\n",
       "    <tr>\n",
       "      <th>0</th>\n",
       "      <td>28.0</td>\n",
       "      <td>36</td>\n",
       "    </tr>\n",
       "    <tr>\n",
       "      <th>1</th>\n",
       "      <td>29.0</td>\n",
       "      <td>37</td>\n",
       "    </tr>\n",
       "    <tr>\n",
       "      <th>2</th>\n",
       "      <td>30.0</td>\n",
       "      <td>38</td>\n",
       "    </tr>\n",
       "    <tr>\n",
       "      <th>3</th>\n",
       "      <td>NaN</td>\n",
       "      <td>40</td>\n",
       "    </tr>\n",
       "  </tbody>\n",
       "</table>\n",
       "</div>"
      ],
      "text/plain": [
       "   productA  productB\n",
       "0      28.0        36\n",
       "1      29.0        37\n",
       "2      30.0        38\n",
       "3       NaN        40"
      ]
     },
     "execution_count": 10,
     "metadata": {},
     "output_type": "execute_result"
    }
   ],
   "source": [
    "df.mode()"
   ]
  },
  {
   "cell_type": "markdown",
   "id": "1c89d87e",
   "metadata": {},
   "source": [
    "### significance of the mode:\n",
    "\n",
    "### productA has multiple modes, indicating that there are multiple values occuring with the highest frequency.\n",
    "\n",
    "\n",
    "### productB has multiple modes , indicating that there are multiple values occuring with the highest frequency"
   ]
  },
  {
   "cell_type": "code",
   "execution_count": 11,
   "id": "c96b70c3",
   "metadata": {},
   "outputs": [
    {
     "name": "stdout",
     "output_type": "stream",
     "text": [
      "28.999999999999996\n",
      "38.25\n"
     ]
    }
   ],
   "source": [
    "WA = (df['productA']*(1/len(df))).sum()\n",
    "WB=(df['productB']*(1/len(df))).sum()\n",
    "\n",
    "\n",
    "print(WA)\n",
    "print(WB)"
   ]
  },
  {
   "cell_type": "markdown",
   "id": "df22a050",
   "metadata": {},
   "source": [
    "### implication of using weighted mean:\n",
    "\n",
    "### assuming each month has an equal weight implies that each monthcontributes equally to the overall mean\n",
    "\n",
    "### in this context , the weighted mean provides a simple average that does not give more importance to certain months "
   ]
  },
  {
   "cell_type": "markdown",
   "id": "1092eda1",
   "metadata": {},
   "source": [
    "## MEASURES OF DISPERSION"
   ]
  },
  {
   "cell_type": "code",
   "execution_count": 13,
   "id": "5a7b410a",
   "metadata": {},
   "outputs": [
    {
     "name": "stdout",
     "output_type": "stream",
     "text": [
      "8\n",
      "7\n"
     ]
    }
   ],
   "source": [
    "RA=df['productA'].max()-df['productA'].min()\n",
    "RB=df['productB'].max()-df['productB'].min()\n",
    "\n",
    "print(RA)\n",
    "print(RB)"
   ]
  },
  {
   "cell_type": "markdown",
   "id": "4e2c8acf",
   "metadata": {},
   "source": [
    "### discuss on variability\n",
    "\n",
    "### a large range suggest greater variability or dispersion in sales ,indicating potential fluctuation outliers\n",
    "\n",
    "### a small range suggests less variability, implying more consistent sales figures throughtout the period"
   ]
  },
  {
   "cell_type": "code",
   "execution_count": 14,
   "id": "28c0abbd",
   "metadata": {},
   "outputs": [
    {
     "name": "stdout",
     "output_type": "stream",
     "text": [
      "5.636363636363637\n",
      "4.75\n"
     ]
    }
   ],
   "source": [
    "VA = df['productA'].var()\n",
    "VB = df['productB'].var() \n",
    "\n",
    "print(VA)\n",
    "print(VB)"
   ]
  },
  {
   "cell_type": "markdown",
   "id": "a633a39d",
   "metadata": {},
   "source": [
    "### DISCUSS ON SPREAD OF SALES\n",
    "### A HIGHER VARIENCE GRATER DISPERSION OR VARIABILITY IN SALES VALUES\n",
    "### A LOWER VARIENCE SUGGESTBLESS SPREAD, INDICATING MORE CONSISTENCY IN SALES."
   ]
  },
  {
   "cell_type": "code",
   "execution_count": 16,
   "id": "48f44e74",
   "metadata": {},
   "outputs": [
    {
     "name": "stdout",
     "output_type": "stream",
     "text": [
      "2.3741027013091993\n",
      "2.179449471770337\n"
     ]
    }
   ],
   "source": [
    "stdA=df['productA'].std()\n",
    "stdB=df['productB'].std()\n",
    "\n",
    "print(stdA)\n",
    "print(stdB)"
   ]
  },
  {
   "cell_type": "markdown",
   "id": "9474a738",
   "metadata": {},
   "source": [
    "###  discussion on variability:\n",
    "\n",
    "### a higher standard deviation indicates greater variability  or spread in sales values\n",
    "\n",
    "### a lower standard deviation less variability, indicating more consistency in sales."
   ]
  },
  {
   "cell_type": "markdown",
   "id": "bc53a812",
   "metadata": {},
   "source": [
    "## RELATIVE MEASURES OF DISPERSION"
   ]
  },
  {
   "cell_type": "code",
   "execution_count": 19,
   "id": "675befd0",
   "metadata": {},
   "outputs": [
    {
     "name": "stdout",
     "output_type": "stream",
     "text": [
      "8.186561038997239\n",
      "5.697907115739443\n"
     ]
    }
   ],
   "source": [
    "meanA = df['productA'].mean()\n",
    "stdA = df['productA'].std()\n",
    "cvA  = (stdA / meanA)* 100\n",
    "\n",
    "meanB = df['productB'].mean()\n",
    "stdB = df['productB'].std()\n",
    "cvB = (stdB/ meanB)*100\n",
    "\n",
    "print(cvA)\n",
    "print(cvB)"
   ]
  },
  {
   "cell_type": "code",
   "execution_count": null,
   "id": "2309c47f",
   "metadata": {},
   "outputs": [],
   "source": []
  },
  {
   "cell_type": "markdown",
   "id": "3e8d442b",
   "metadata": {},
   "source": [
    "### discussion on comparing variability\n",
    "### the coefficient of variation provides a normalized measures of dispersion, allowing for comparsion between products with different average sales\n",
    "### a higher coefficient of variationindicates higher relative,while a lower co efficient of variation suggest lower relative variability"
   ]
  },
  {
   "cell_type": "code",
   "execution_count": 20,
   "id": "b24e4b9e",
   "metadata": {},
   "outputs": [
    {
     "name": "stdout",
     "output_type": "stream",
     "text": [
      "18.30065359477124\n"
     ]
    }
   ],
   "source": [
    "meanB = df['productB'].mean()\n",
    "rangeB= df['productB'].max()-df['productB'].min()\n",
    "rr8 = (rangeB / meanB)*100\n",
    "\n",
    "print(rr8)"
   ]
  },
  {
   "cell_type": "markdown",
   "id": "aee4d993",
   "metadata": {},
   "source": [
    "### discussion on relative range:\n",
    "### the relative range is a normalised measure of dispersion that accounts for the scale of the data\n",
    "### by dividing the range by the mean and expressing it as a percentage,the relative range provides a relative measures  of how spread out the data is\n",
    "### this is useful for comparing the variability of productB in a way that considers the scale of its scales values."
   ]
  },
  {
   "cell_type": "code",
   "execution_count": null,
   "id": "f7c4ea9b",
   "metadata": {},
   "outputs": [],
   "source": []
  },
  {
   "cell_type": "code",
   "execution_count": 21,
   "id": "5428e4a4",
   "metadata": {},
   "outputs": [
    {
     "name": "stdout",
     "output_type": "stream",
     "text": [
      "8.186561038997239\n"
     ]
    }
   ],
   "source": [
    "rsdA = cvA\n",
    "print(rsdA)"
   ]
  },
  {
   "cell_type": "code",
   "execution_count": null,
   "id": "1733d1b1",
   "metadata": {},
   "outputs": [],
   "source": []
  },
  {
   "cell_type": "code",
   "execution_count": null,
   "id": "624c1c8e",
   "metadata": {},
   "outputs": [],
   "source": []
  }
 ],
 "metadata": {
  "kernelspec": {
   "display_name": "Python 3 (ipykernel)",
   "language": "python",
   "name": "python3"
  },
  "language_info": {
   "codemirror_mode": {
    "name": "ipython",
    "version": 3
   },
   "file_extension": ".py",
   "mimetype": "text/x-python",
   "name": "python",
   "nbconvert_exporter": "python",
   "pygments_lexer": "ipython3",
   "version": "3.11.5"
  }
 },
 "nbformat": 4,
 "nbformat_minor": 5
}
